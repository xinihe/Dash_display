{
 "cells": [
  {
   "cell_type": "markdown",
   "metadata": {},
   "source": [
    "### Tables in Database - incfinance\n",
    "\n",
    "- banking_social_response_report\n",
    "- inc_policy_all\n",
    "- inc_region_report_all"
   ]
  },
  {
   "cell_type": "code",
   "execution_count": null,
   "metadata": {},
   "outputs": [],
   "source": [
    "pip install dash plotly pandas sqlalchemy mysql-connector-python"
   ]
  },
  {
   "cell_type": "code",
   "execution_count": null,
   "metadata": {},
   "outputs": [],
   "source": [
    "import pandas as pd\n",
    "from sqlalchemy import create_engine\n",
    "\n",
    "# MySQL database credentials\n",
    "db_user = 'student_user'\n",
    "db_password = 'qf2024'\n",
    "db_host = '10.23.0.3'  # e.g., 'localhost' or '127.0.0.1'\n",
    "db_port = '3306'  # Default MySQL port\n",
    "db_name = 'incfinance'\n",
    "\n",
    "# Create a connection string\n",
    "connection_string = f'mysql+mysqlconnector://{db_user}:{db_password}@{db_host}:{db_port}/{db_name}'\n",
    "\n",
    "# Create a SQLAlchemy engine\n",
    "engine = create_engine(connection_string)"
   ]
  },
  {
   "cell_type": "code",
   "execution_count": 5,
   "metadata": {},
   "outputs": [
    {
     "name": "stdout",
     "output_type": "stream",
     "text": [
      "                                 机构ID             机构编码            统一社会信用代码  \\\n",
      "0  qy318533C2E67709AA2108E2F383178F0A  E0001H235010001  913500007775300512   \n",
      "1  qy318533C2E67709AA2108E2F383178F0A  E0001H235010001  913500007775300512   \n",
      "2  qy318533C2E67709AA2108E2F383178F0A  E0001H235010001  913500007775300512   \n",
      "3  qy318533C2E67709AA2108E2F383178F0A  E0001H235010001  913500007775300512   \n",
      "4  qy318533C2E67709AA2108E2F383178F0A  E0001H235010001  913500007775300512   \n",
      "\n",
      "          机构名称   机构类型  报告年度                          报告名称   文件类型  \n",
      "0  福建省农村信用社联合社  农村信用社  2013   福建省农村信用社联合社-社会责任报告-2013.pdf   .pdf  \n",
      "1  福建省农村信用社联合社  农村信用社  2014   福建省农村信用社联合社-社会责任报告-2014.pdf   .pdf  \n",
      "2  福建省农村信用社联合社  农村信用社  2017   福建省农村信用社联合社-社会责任报告-2017.pdf   .pdf  \n",
      "3  福建省农村信用社联合社  农村信用社  2018  福建省农村信用社联合社-社会责任报告-2018.docx  .docx  \n",
      "4  福建省农村信用社联合社  农村信用社  2019   福建省农村信用社联合社-社会责任报告-2019.pdf   .pdf  \n"
     ]
    }
   ],
   "source": [
    "# Define the SQL query\n",
    "table_name = 'banking_social_response_report'\n",
    "query = 'SELECT * FROM ' + table_name\n",
    "\n",
    "# Execute the query and retrieve data into a pandas DataFrame\n",
    "df = pd.read_sql(query, engine)\n",
    "\n",
    "# Display the first few rows of the DataFrame\n",
    "print(df.head())\n",
    "\n",
    "# Close the connection\n",
    "engine.dispose()"
   ]
  },
  {
   "cell_type": "code",
   "execution_count": 7,
   "metadata": {},
   "outputs": [
    {
     "data": {
      "text/plain": [
       "0      福建省农村信用社联合社\n",
       "1      福建省农村信用社联合社\n",
       "2      福建省农村信用社联合社\n",
       "3      福建省农村信用社联合社\n",
       "4      福建省农村信用社联合社\n",
       "          ...     \n",
       "879     渤海银行股份有限公司\n",
       "880     渤海银行股份有限公司\n",
       "881     渤海银行股份有限公司\n",
       "882     渤海银行股份有限公司\n",
       "883     渤海银行股份有限公司\n",
       "Name: agency, Length: 884, dtype: object"
      ]
     },
     "execution_count": 7,
     "metadata": {},
     "output_type": "execute_result"
    }
   ],
   "source": [
    "df= df.rename(columns={'机构名称':'agency'})\n",
    "df.agency"
   ]
  }
 ],
 "metadata": {
  "kernelspec": {
   "display_name": "Python 3",
   "language": "python",
   "name": "python3"
  },
  "language_info": {
   "codemirror_mode": {
    "name": "ipython",
    "version": 3
   },
   "file_extension": ".py",
   "mimetype": "text/x-python",
   "name": "python",
   "nbconvert_exporter": "python",
   "pygments_lexer": "ipython3",
   "version": "3.9.6"
  }
 },
 "nbformat": 4,
 "nbformat_minor": 2
}
