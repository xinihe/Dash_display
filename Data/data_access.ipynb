{
 "cells": [
  {
   "cell_type": "markdown",
   "metadata": {},
   "source": [
    "## Tables in Database - incfinance\n",
    "\n",
    "- banking_social_response_report\n",
    "- inc_policy_all\n",
    "- inc_region_report_all\n",
    "\n"
   ]
  },
  {
   "cell_type": "code",
   "execution_count": null,
   "metadata": {},
   "outputs": [],
   "source": [
    "pip install dash plotly pandas sqlalchemy mysql-connector-python"
   ]
  },
  {
   "cell_type": "code",
   "execution_count": 1,
   "metadata": {},
   "outputs": [],
   "source": [
    "import pandas as pd\n",
    "from sqlalchemy import create_engine\n",
    "\n",
    "# MySQL database credentials\n",
    "db_user = 'student_user'\n",
    "db_password = 'qf2024'\n",
    "db_host = '10.23.0.3'  # e.g., 'localhost' or '127.0.0.1'\n",
    "db_port = '3306'  # Default MySQL port\n",
    "db_name = 'incfinance'\n",
    "\n",
    "# Create a connection string\n",
    "connection_string = f'mysql+mysqlconnector://{db_user}:{db_password}@{db_host}:{db_port}/{db_name}'\n",
    "\n",
    "# Create a SQLAlchemy engine\n",
    "engine = create_engine(connection_string)"
   ]
  },
  {
   "cell_type": "code",
   "execution_count": 3,
   "metadata": {},
   "outputs": [
    {
     "name": "stdout",
     "output_type": "stream",
     "text": [
      "                                 机构ID             机构编码            统一社会信用代码  \\\n",
      "0  qy318533C2E67709AA2108E2F383178F0A  E0001H235010001  913500007775300512   \n",
      "1  qy318533C2E67709AA2108E2F383178F0A  E0001H235010001  913500007775300512   \n",
      "2  qy318533C2E67709AA2108E2F383178F0A  E0001H235010001  913500007775300512   \n",
      "3  qy318533C2E67709AA2108E2F383178F0A  E0001H235010001  913500007775300512   \n",
      "4  qy318533C2E67709AA2108E2F383178F0A  E0001H235010001  913500007775300512   \n",
      "\n",
      "          机构名称   机构类型  报告年度                          报告名称   文件类型  \n",
      "0  福建省农村信用社联合社  农村信用社  2013   福建省农村信用社联合社-社会责任报告-2013.pdf   .pdf  \n",
      "1  福建省农村信用社联合社  农村信用社  2014   福建省农村信用社联合社-社会责任报告-2014.pdf   .pdf  \n",
      "2  福建省农村信用社联合社  农村信用社  2017   福建省农村信用社联合社-社会责任报告-2017.pdf   .pdf  \n",
      "3  福建省农村信用社联合社  农村信用社  2018  福建省农村信用社联合社-社会责任报告-2018.docx  .docx  \n",
      "4  福建省农村信用社联合社  农村信用社  2019   福建省农村信用社联合社-社会责任报告-2019.pdf   .pdf  \n"
     ]
    }
   ],
   "source": [
    "# Define the SQL query\n",
    "table_name = 'banking_social_response_report'\n",
    "query = 'SELECT * FROM ' + table_name\n",
    "\n",
    "# Execute the query and retrieve data into a pandas DataFrame\n",
    "df = pd.read_sql(query, engine)\n",
    "\n",
    "# Display the first few rows of the DataFrame\n",
    "print(df.head())\n",
    "\n",
    "# Close the connection\n",
    "engine.dispose()"
   ]
  },
  {
   "cell_type": "markdown",
   "metadata": {},
   "source": [
    "统一社会信用代码中的数字和字母具有特定的指代意义，它们共同组成了法人和其他组织的“数字身份证”。以下是统一社会信用代码中数字和字母的指代意义：\n",
    "\n",
    "- 登记管理部门代码（第1位）：\n",
    "使用阿拉伯数字或英文字母表示。\n",
    "例如，机构编制、民政、工商等登记管理部门分别使用不同的代码来表示。\n",
    "\n",
    "- 机构类别代码（第2位）：\n",
    "使用阿拉伯数字或英文字母表示。\n",
    "登记管理部门根据管理职能，确定在本部门登记的机构类别编码。\n",
    "例如，在工商部门，1可能代表企业，2代表个体工商户，3代表农民专业合作社。\n",
    "\n",
    "- 登记管理机关**行政区划码**（**第3-8位**）：\n",
    "使用阿拉伯数字表示。\n",
    "体现法人和其他组织注册登记及其登记管理机关所在地。\n",
    "参照《中华人民共和国行政区划代码》进行编码。\n",
    "\n",
    "- 主体标识码（第9-17位）：\n",
    "也称为组织机构代码，使用阿拉伯数字或英文字母表示。\n",
    "参照《全国组织机构代码编制规则》进行编码。\n",
    "\n",
    "- 校验码（第18位）：\n",
    "使用阿拉伯数字或英文字母表示。\n",
    "由系统自动生成，用于校验统一社会信用代码的有效性。"
   ]
  },
  {
   "cell_type": "code",
   "execution_count": 3,
   "metadata": {},
   "outputs": [
    {
     "data": {
      "text/html": [
       "<div>\n",
       "<style scoped>\n",
       "    .dataframe tbody tr th:only-of-type {\n",
       "        vertical-align: middle;\n",
       "    }\n",
       "\n",
       "    .dataframe tbody tr th {\n",
       "        vertical-align: top;\n",
       "    }\n",
       "\n",
       "    .dataframe thead th {\n",
       "        text-align: right;\n",
       "    }\n",
       "</style>\n",
       "<table border=\"1\" class=\"dataframe\">\n",
       "  <thead>\n",
       "    <tr style=\"text-align: right;\">\n",
       "      <th></th>\n",
       "      <th>机构ID</th>\n",
       "      <th>机构编码</th>\n",
       "      <th>统一社会信用代码</th>\n",
       "      <th>机构名称</th>\n",
       "      <th>机构类型</th>\n",
       "      <th>报告年度</th>\n",
       "      <th>报告名称</th>\n",
       "      <th>文件类型</th>\n",
       "      <th>loc_code</th>\n",
       "    </tr>\n",
       "  </thead>\n",
       "  <tbody>\n",
       "    <tr>\n",
       "      <th>0</th>\n",
       "      <td>qy318533C2E67709AA2108E2F383178F0A</td>\n",
       "      <td>E0001H235010001</td>\n",
       "      <td>913500007775300512</td>\n",
       "      <td>福建省农村信用社联合社</td>\n",
       "      <td>农村信用社</td>\n",
       "      <td>2013</td>\n",
       "      <td>福建省农村信用社联合社-社会责任报告-2013.pdf</td>\n",
       "      <td>.pdf</td>\n",
       "      <td>350000</td>\n",
       "    </tr>\n",
       "    <tr>\n",
       "      <th>1</th>\n",
       "      <td>qy318533C2E67709AA2108E2F383178F0A</td>\n",
       "      <td>E0001H235010001</td>\n",
       "      <td>913500007775300512</td>\n",
       "      <td>福建省农村信用社联合社</td>\n",
       "      <td>农村信用社</td>\n",
       "      <td>2014</td>\n",
       "      <td>福建省农村信用社联合社-社会责任报告-2014.pdf</td>\n",
       "      <td>.pdf</td>\n",
       "      <td>350000</td>\n",
       "    </tr>\n",
       "    <tr>\n",
       "      <th>2</th>\n",
       "      <td>qy318533C2E67709AA2108E2F383178F0A</td>\n",
       "      <td>E0001H235010001</td>\n",
       "      <td>913500007775300512</td>\n",
       "      <td>福建省农村信用社联合社</td>\n",
       "      <td>农村信用社</td>\n",
       "      <td>2017</td>\n",
       "      <td>福建省农村信用社联合社-社会责任报告-2017.pdf</td>\n",
       "      <td>.pdf</td>\n",
       "      <td>350000</td>\n",
       "    </tr>\n",
       "    <tr>\n",
       "      <th>3</th>\n",
       "      <td>qy318533C2E67709AA2108E2F383178F0A</td>\n",
       "      <td>E0001H235010001</td>\n",
       "      <td>913500007775300512</td>\n",
       "      <td>福建省农村信用社联合社</td>\n",
       "      <td>农村信用社</td>\n",
       "      <td>2018</td>\n",
       "      <td>福建省农村信用社联合社-社会责任报告-2018.docx</td>\n",
       "      <td>.docx</td>\n",
       "      <td>350000</td>\n",
       "    </tr>\n",
       "    <tr>\n",
       "      <th>4</th>\n",
       "      <td>qy318533C2E67709AA2108E2F383178F0A</td>\n",
       "      <td>E0001H235010001</td>\n",
       "      <td>913500007775300512</td>\n",
       "      <td>福建省农村信用社联合社</td>\n",
       "      <td>农村信用社</td>\n",
       "      <td>2019</td>\n",
       "      <td>福建省农村信用社联合社-社会责任报告-2019.pdf</td>\n",
       "      <td>.pdf</td>\n",
       "      <td>350000</td>\n",
       "    </tr>\n",
       "  </tbody>\n",
       "</table>\n",
       "</div>"
      ],
      "text/plain": [
       "                                 机构ID             机构编码            统一社会信用代码  \\\n",
       "0  qy318533C2E67709AA2108E2F383178F0A  E0001H235010001  913500007775300512   \n",
       "1  qy318533C2E67709AA2108E2F383178F0A  E0001H235010001  913500007775300512   \n",
       "2  qy318533C2E67709AA2108E2F383178F0A  E0001H235010001  913500007775300512   \n",
       "3  qy318533C2E67709AA2108E2F383178F0A  E0001H235010001  913500007775300512   \n",
       "4  qy318533C2E67709AA2108E2F383178F0A  E0001H235010001  913500007775300512   \n",
       "\n",
       "          机构名称   机构类型  报告年度                          报告名称   文件类型 loc_code  \n",
       "0  福建省农村信用社联合社  农村信用社  2013   福建省农村信用社联合社-社会责任报告-2013.pdf   .pdf   350000  \n",
       "1  福建省农村信用社联合社  农村信用社  2014   福建省农村信用社联合社-社会责任报告-2014.pdf   .pdf   350000  \n",
       "2  福建省农村信用社联合社  农村信用社  2017   福建省农村信用社联合社-社会责任报告-2017.pdf   .pdf   350000  \n",
       "3  福建省农村信用社联合社  农村信用社  2018  福建省农村信用社联合社-社会责任报告-2018.docx  .docx   350000  \n",
       "4  福建省农村信用社联合社  农村信用社  2019   福建省农村信用社联合社-社会责任报告-2019.pdf   .pdf   350000  "
      ]
     },
     "execution_count": 3,
     "metadata": {},
     "output_type": "execute_result"
    }
   ],
   "source": [
    "df['loc_code'] = [c[2:8] for c in list(df['统一社会信用代码'])]\n",
    "df.head()"
   ]
  },
  {
   "cell_type": "markdown",
   "metadata": {},
   "source": [
    "中国的行政区划代码一般采用6位数字表示，前两位表示省份、自治区、直辖市或特别行政区，中间两位表示城市或地区，后两位表示县、市辖区或县级市。了解这一规律也有助于更好地理解和使用行政区划代码。\n",
    "\n",
    "\n",
    "- https://github.com/modood/Administrative-divisions-of-China/tree/master "
   ]
  },
  {
   "cell_type": "code",
   "execution_count": 4,
   "metadata": {},
   "outputs": [
    {
     "name": "stdout",
     "output_type": "stream",
     "text": [
      "{'code': '140423', 'name': '襄垣县', 'cityCode': '1404', 'provinceCode': '14'}\n"
     ]
    }
   ],
   "source": [
    "area_code = '140423'\n",
    "\n",
    "# load the areas.json and retreval information where the corresponding code is equal to area_code\n",
    "import json\n",
    "\n",
    "# Specify the file path\n",
    "file_path = 'divisionsofChina/dist/areas.json'\n",
    "\n",
    "# Load the JSON file\n",
    "with open(file_path, 'r') as file:\n",
    "    areas_data = json.load(file)\n",
    "\n",
    "# Retrieve information where the corresponding code is equal to area_code\n",
    "matching_areas = [area for area in areas_data if area['code'] == area_code]\n",
    "\n",
    "# Print the matching areas\n",
    "for area in matching_areas:\n",
    "    print(area)\n"
   ]
  },
  {
   "cell_type": "code",
   "execution_count": 5,
   "metadata": {},
   "outputs": [],
   "source": [
    "# Load a few json data\n",
    "import json\n",
    "\n",
    "# Specify the file paths\n",
    "file_paths = ['divisionsofChina/dist/provinces.json', 'divisionsofChina/dist/cities.json', 'divisionsofChina/dist/areas.json']\n",
    "\n",
    "# Load the JSON files\n",
    "areainfo = []\n",
    "for file_path in file_paths:\n",
    "    with open(file_path, 'r') as file:\n",
    "        json_data = json.load(file)\n",
    "        areainfo.append(json_data)\n",
    "\n",
    "# Process the loaded data\n"
   ]
  },
  {
   "cell_type": "code",
   "execution_count": 6,
   "metadata": {},
   "outputs": [
    {
     "data": {
      "text/plain": [
       "'山西省长治市襄垣县'"
      ]
     },
     "execution_count": 6,
     "metadata": {},
     "output_type": "execute_result"
    }
   ],
   "source": [
    "\n",
    "def get_location(area_code, areainfo):\n",
    "    address = ''\n",
    "    p, c, a = area_code[:2], area_code[2:4], area_code[4:]\n",
    "    try:\n",
    "        address += [area for area in areainfo[0] if area['code'] == p][0]['name']\n",
    "    except IndexError:\n",
    "        pass\n",
    "    try:\n",
    "        if c != '00':\n",
    "            address += [area for area in areainfo[1] if area['code'] == p+c][0]['name']\n",
    "    except IndexError:\n",
    "        pass\n",
    "    try:\n",
    "        if a != '00':\n",
    "            address += [area for area in areainfo[2] if area['code'] == p+c+a][0]['name']\n",
    "    except IndexError:\n",
    "        pass\n",
    "    return address\n",
    "\n",
    "area_code = '140423'\n",
    "#area_code = '350025'\n",
    "get_location(area_code, areainfo)"
   ]
  },
  {
   "cell_type": "code",
   "execution_count": null,
   "metadata": {},
   "outputs": [],
   "source": [
    "from pyecharts import options as opts  \n",
    "from pyecharts.charts import Geo  \n",
    "from pyecharts.globals import ChartType, SymbolType  \n",
    "  \n",
    "# 假设你已经有了一个行政区划码与对应坐标的映射  \n",
    "# 这里以北京市为例，行政区划码为110000，经纬度为北京的大致中心位置  \n",
    "location_data = {  \n",
    "    '110000': (116.407526, 39.90403)  # 经度, 纬度  \n",
    "}  \n",
    "  \n",
    "# 创建Geo地图对象  \n",
    "geo = Geo()  \n",
    "geo.add_schema(maptype=\"china\")  # 添加中国地图  \n",
    "  \n",
    "# 假设我们要查询的行政区划码是110000（北京市）  \n",
    "target_code = '110000'  \n",
    "if target_code in location_data:  \n",
    "    # 添加坐标点  \n",
    "    geo.add_coordinate(target_code, location_data[target_code][0], location_data[target_code][1])  \n",
    "      \n",
    "    # 在地图上标出该点  \n",
    "    geo.add(  \n",
    "        \"Location\",  \n",
    "        [(target_code, 1)],  # 使用行政区划码作为数据点名称，数值1表示大小或权重，可根据需要调整  \n",
    "        type_=ChartType.EFFECT_SCATTER,  # 使用带有涟漪特效动画的散点图  \n",
    "    )  \n",
    "      \n",
    "    # 设置视觉映射组件（这里主要用于展示点的颜色和大小，但在这个例子中不是必需的）  \n",
    "    geo.set_series_opts(  \n",
    "        label_opts=opts.LabelOpts(is_show=False),  # 不显示标签  \n",
    "        symbol_size=20,  # 点的大小  \n",
    "    )  \n",
    "  \n",
    "# 渲染地图  \n",
    "geo.render(\"geo_map.html\")  # 生成HTML文件，可以在浏览器中查看\n"
   ]
  }
 ],
 "metadata": {
  "kernelspec": {
   "display_name": "Python 3",
   "language": "python",
   "name": "python3"
  },
  "language_info": {
   "codemirror_mode": {
    "name": "ipython",
    "version": 3
   },
   "file_extension": ".py",
   "mimetype": "text/x-python",
   "name": "python",
   "nbconvert_exporter": "python",
   "pygments_lexer": "ipython3",
   "version": "3.9.6"
  }
 },
 "nbformat": 4,
 "nbformat_minor": 2
}
