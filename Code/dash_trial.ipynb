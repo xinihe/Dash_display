{
 "cells": [
  {
   "cell_type": "code",
   "execution_count": 1,
   "metadata": {},
   "outputs": [
    {
     "name": "stdout",
     "output_type": "stream",
     "text": [
      "Defaulting to user installation because normal site-packages is not writeable\n",
      "Looking in indexes: http://mirrors.aliyun.com/pypi/simple/\n",
      "Collecting dash\n",
      "  Downloading http://mirrors.aliyun.com/pypi/packages/63/22/bc266b167111e70a2da940e78b78d22fea5b1ee32b512ed0789bd6cc2a9f/dash-2.17.0-py3-none-any.whl (7.5 MB)\n",
      "\u001b[2K     \u001b[90m━━━━━━━━━━━━━━━━━━━━━━━━━━━━━━━━━━━━━━━━\u001b[0m \u001b[32m7.5/7.5 MB\u001b[0m \u001b[31m5.3 MB/s\u001b[0m eta \u001b[36m0:00:00\u001b[0m00:01\u001b[0m00:01\u001b[0m\n",
      "\u001b[?25hRequirement already satisfied: Flask<3.1,>=1.0.4 in /Users/nihe/Library/Python/3.9/lib/python/site-packages (from dash) (2.2.2)\n",
      "Requirement already satisfied: Werkzeug<3.1 in /Users/nihe/Library/Python/3.9/lib/python/site-packages (from dash) (2.2.2)\n",
      "Requirement already satisfied: plotly>=5.0.0 in /Users/nihe/Library/Python/3.9/lib/python/site-packages (from dash) (5.10.0)\n",
      "Collecting dash-html-components==2.0.0 (from dash)\n",
      "  Downloading http://mirrors.aliyun.com/pypi/packages/75/65/1b16b853844ef59b2742a7de74a598f376ac0ab581f0dcc34db294e5c90e/dash_html_components-2.0.0-py3-none-any.whl (4.1 kB)\n",
      "Collecting dash-core-components==2.0.0 (from dash)\n",
      "  Downloading http://mirrors.aliyun.com/pypi/packages/00/9e/a29f726e84e531a36d56cff187e61d8c96d2cc253c5bcef9a7695acb7e6a/dash_core_components-2.0.0-py3-none-any.whl (3.8 kB)\n",
      "Collecting dash-table==5.0.0 (from dash)\n",
      "  Downloading http://mirrors.aliyun.com/pypi/packages/da/ce/43f77dc8e7bbad02a9f88d07bf794eaf68359df756a28bb9f2f78e255bb1/dash_table-5.0.0-py3-none-any.whl (3.9 kB)\n",
      "Requirement already satisfied: importlib-metadata in /Users/nihe/Library/Python/3.9/lib/python/site-packages (from dash) (4.12.0)\n",
      "Requirement already satisfied: typing-extensions>=4.1.1 in /Users/nihe/Library/Python/3.9/lib/python/site-packages (from dash) (4.8.0)\n",
      "Requirement already satisfied: requests in /Users/nihe/Library/Python/3.9/lib/python/site-packages (from dash) (2.28.1)\n",
      "Collecting retrying (from dash)\n",
      "  Downloading http://mirrors.aliyun.com/pypi/packages/8f/04/9e36f28be4c0532c0e9207ff9dc01fb13a2b0eb036476a213b0000837d0e/retrying-1.3.4-py3-none-any.whl (11 kB)\n",
      "Requirement already satisfied: nest-asyncio in /Users/nihe/Library/Python/3.9/lib/python/site-packages (from dash) (1.5.6)\n",
      "Requirement already satisfied: setuptools in /Library/Developer/CommandLineTools/Library/Frameworks/Python3.framework/Versions/3.9/lib/python3.9/site-packages (from dash) (58.0.4)\n",
      "Requirement already satisfied: Jinja2>=3.0 in /Users/nihe/Library/Python/3.9/lib/python/site-packages (from Flask<3.1,>=1.0.4->dash) (3.1.2)\n",
      "Requirement already satisfied: itsdangerous>=2.0 in /Users/nihe/Library/Python/3.9/lib/python/site-packages (from Flask<3.1,>=1.0.4->dash) (2.1.2)\n",
      "Requirement already satisfied: click>=8.0 in /Users/nihe/Library/Python/3.9/lib/python/site-packages (from Flask<3.1,>=1.0.4->dash) (8.1.3)\n",
      "Requirement already satisfied: zipp>=0.5 in /Users/nihe/Library/Python/3.9/lib/python/site-packages (from importlib-metadata->dash) (3.8.1)\n",
      "Requirement already satisfied: tenacity>=6.2.0 in /Users/nihe/Library/Python/3.9/lib/python/site-packages (from plotly>=5.0.0->dash) (8.1.0)\n",
      "Requirement already satisfied: MarkupSafe>=2.1.1 in /Users/nihe/Library/Python/3.9/lib/python/site-packages (from Werkzeug<3.1->dash) (2.1.1)\n",
      "Requirement already satisfied: charset-normalizer<3,>=2 in /Users/nihe/Library/Python/3.9/lib/python/site-packages (from requests->dash) (2.1.1)\n",
      "Requirement already satisfied: idna<4,>=2.5 in /Users/nihe/Library/Python/3.9/lib/python/site-packages (from requests->dash) (3.4)\n",
      "Requirement already satisfied: urllib3<1.27,>=1.21.1 in /Users/nihe/Library/Python/3.9/lib/python/site-packages (from requests->dash) (1.26.12)\n",
      "Requirement already satisfied: certifi>=2017.4.17 in /Users/nihe/Library/Python/3.9/lib/python/site-packages (from requests->dash) (2022.9.24)\n",
      "Requirement already satisfied: six>=1.7.0 in /Library/Developer/CommandLineTools/Library/Frameworks/Python3.framework/Versions/3.9/lib/python3.9/site-packages (from retrying->dash) (1.15.0)\n",
      "Installing collected packages: dash-table, dash-html-components, dash-core-components, retrying, dash\n",
      "Successfully installed dash-2.17.0 dash-core-components-2.0.0 dash-html-components-2.0.0 dash-table-5.0.0 retrying-1.3.4\n",
      "\n",
      "\u001b[1m[\u001b[0m\u001b[34;49mnotice\u001b[0m\u001b[1;39;49m]\u001b[0m\u001b[39;49m A new release of pip is available: \u001b[0m\u001b[31;49m23.3.2\u001b[0m\u001b[39;49m -> \u001b[0m\u001b[32;49m24.0\u001b[0m\n",
      "\u001b[1m[\u001b[0m\u001b[34;49mnotice\u001b[0m\u001b[1;39;49m]\u001b[0m\u001b[39;49m To update, run: \u001b[0m\u001b[32;49m/Library/Developer/CommandLineTools/usr/bin/python3 -m pip install --upgrade pip\u001b[0m\n",
      "Note: you may need to restart the kernel to use updated packages.\n"
     ]
    }
   ],
   "source": [
    "pip install dash"
   ]
  }
 ],
 "metadata": {
  "kernelspec": {
   "display_name": "Python 3",
   "language": "python",
   "name": "python3"
  },
  "language_info": {
   "codemirror_mode": {
    "name": "ipython",
    "version": 3
   },
   "file_extension": ".py",
   "mimetype": "text/x-python",
   "name": "python",
   "nbconvert_exporter": "python",
   "pygments_lexer": "ipython3",
   "version": "3.9.6"
  }
 },
 "nbformat": 4,
 "nbformat_minor": 2
}
